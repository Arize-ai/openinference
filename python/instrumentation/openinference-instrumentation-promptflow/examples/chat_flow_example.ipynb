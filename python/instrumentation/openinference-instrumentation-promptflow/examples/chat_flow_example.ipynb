{
 "cells": [
  {
   "cell_type": "code",
   "execution_count": null,
   "metadata": {},
   "outputs": [],
   "source": [
    "import os\n",
    "import phoenix as px\n",
    "from opentelemetry.sdk.environment_variables import OTEL_EXPORTER_OTLP_ENDPOINT\n",
    "from promptflow.tracing._start_trace import setup_exporter_from_environ"
   ]
  },
  {
   "cell_type": "code",
   "execution_count": null,
   "metadata": {},
   "outputs": [],
   "source": [
    "session = px.launch_app()"
   ]
  },
  {
   "cell_type": "code",
   "execution_count": null,
   "metadata": {},
   "outputs": [],
   "source": [
    "endpoint = f\"http://127.0.0.1:6006/v1/traces\"\n",
    "os.environ[OTEL_EXPORTER_OTLP_ENDPOINT] = endpoint\n",
    "setup_exporter_from_environ()"
   ]
  },
  {
   "cell_type": "code",
   "execution_count": null,
   "metadata": {},
   "outputs": [],
   "source": [
    "with open(\"flow.py\") as fin:\n",
    "    print(fin.read())"
   ]
  },
  {
   "cell_type": "code",
   "execution_count": null,
   "metadata": {},
   "outputs": [],
   "source": [
    "from promptflow.client import PFClient\n",
    "from promptflow.connections import AzureOpenAIConnection\n",
    "\n",
    "# client can help manage your runs and connections.\n",
    "pf = PFClient()\n",
    "\n",
    "# Follow https://learn.microsoft.com/en-us/azure/ai-services/openai/how-to/create-resource?pivots=web-portal to create an Azure OpenAI resource.\n",
    "connection = AzureOpenAIConnection(\n",
    "    name=\"open_ai_connection\",\n",
    "    api_key=\"03e8ada6a1be4423ab1d2f1a7fb52f34\",\n",
    "    api_base=\"https://arize-internal-llm.openai.azure.com/\",\n",
    "    api_type=\"azure\",\n",
    ")\n",
    "\n",
    "# use this if you have an existing OpenAI account\n",
    "# connection = OpenAIConnection(\n",
    "#     name=conn_name,\n",
    "#     api_key=\"<user-input>\",\n",
    "# )\n",
    "\n",
    "conn = pf.connections.create_or_update(connection)\n",
    "print(\"successfully created connection\")"
   ]
  },
  {
   "cell_type": "code",
   "execution_count": null,
   "metadata": {},
   "outputs": [],
   "source": [
    "from promptflow.core import AzureOpenAIModelConfiguration\n",
    "\n",
    "# create the model config to be used in below flow calls\n",
    "config = AzureOpenAIModelConfiguration(\n",
    "    connection=\"open_ai_connection\", azure_deployment=\"gpt-4o\"\n",
    ")"
   ]
  },
  {
   "cell_type": "code",
   "execution_count": null,
   "metadata": {},
   "outputs": [],
   "source": [
    "from flow import ChatFlow\n",
    "\n",
    "# create a chatFlow obj with connection\n",
    "chat_flow = ChatFlow(config)\n",
    "# run the flow as function, which will be recorded in the trace\n",
    "result = chat_flow(question=\"What is ChatGPT? Please explain with consise statement\")\n",
    "result"
   ]
  }
 ],
 "metadata": {
  "kernelspec": {
   "display_name": "promptflow-git-books-test",
   "language": "python",
   "name": "python3"
  },
  "language_info": {
   "codemirror_mode": {
    "name": "ipython",
    "version": 3
   },
   "file_extension": ".py",
   "mimetype": "text/x-python",
   "name": "python",
   "nbconvert_exporter": "python",
   "pygments_lexer": "ipython3",
   "version": "3.11.9"
  }
 },
 "nbformat": 4,
 "nbformat_minor": 2
}
