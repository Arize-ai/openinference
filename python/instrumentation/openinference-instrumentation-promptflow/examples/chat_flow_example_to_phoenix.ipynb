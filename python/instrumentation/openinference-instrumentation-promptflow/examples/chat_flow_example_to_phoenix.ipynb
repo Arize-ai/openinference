{
 "cells": [
  {
   "cell_type": "markdown",
   "metadata": {},
   "source": [
    "## Tutorial for using Prompt flow and sending traces to Phoenix"
   ]
  },
  {
   "cell_type": "markdown",
   "metadata": {},
   "source": [
    "Import Phoenix and other dependencies required for setup."
   ]
  },
  {
   "cell_type": "code",
   "execution_count": null,
   "metadata": {},
   "outputs": [],
   "source": [
    "import os\n",
    "import phoenix as px\n",
    "from opentelemetry.sdk.environment_variables import OTEL_EXPORTER_OTLP_ENDPOINT\n",
    "from promptflow.tracing._start_trace import setup_exporter_from_environ"
   ]
  },
  {
   "cell_type": "markdown",
   "metadata": {},
   "source": [
    "Launch the Phoenix UI."
   ]
  },
  {
   "cell_type": "code",
   "execution_count": null,
   "metadata": {},
   "outputs": [],
   "source": [
    "session = px.launch_app()"
   ]
  },
  {
   "cell_type": "markdown",
   "metadata": {},
   "source": [
    "Then set up the OpenTelemetry endpoint to be Phoenix and use Prompt flow's setup_exporter_from_environ to start tracing any further flows and LLM calls."
   ]
  },
  {
   "cell_type": "code",
   "execution_count": null,
   "metadata": {},
   "outputs": [],
   "source": [
    "endpoint = f\"http://127.0.0.1:6006/v1/traces\"\n",
    "os.environ[OTEL_EXPORTER_OTLP_ENDPOINT] = endpoint\n",
    "setup_exporter_from_environ()"
   ]
  },
  {
   "cell_type": "markdown",
   "metadata": {},
   "source": [
    "Open and read flow.py which contains ChatFlow, the flow we are using in this example."
   ]
  },
  {
   "cell_type": "code",
   "execution_count": null,
   "metadata": {},
   "outputs": [],
   "source": [
    "with open(\"flow.py\") as fin:\n",
    "    print(fin.read())"
   ]
  },
  {
   "cell_type": "markdown",
   "metadata": {},
   "source": [
    "Create your Azure OpenAI Connection and follow the link in the comments if you need to create an account. If not, paste your credentials where specified."
   ]
  },
  {
   "cell_type": "code",
   "execution_count": null,
   "metadata": {},
   "outputs": [],
   "source": [
    "from promptflow.client import PFClient\n",
    "from promptflow.connections import AzureOpenAIConnection\n",
    "\n",
    "# client can help manage your runs and connections.\n",
    "pf = PFClient()\n",
    "\n",
    "# Follow https://learn.microsoft.com/en-us/azure/ai-services/openai/how-to/create-resource?pivots=web-portal to create an Azure OpenAI resource.\n",
    "connection = AzureOpenAIConnection(\n",
    "    name=\"open_ai_connection\",\n",
    "    api_key=\"INSERT_YOUR_API_KEY_HERE\",\n",
    "    api_base=\"INSERT_YOUR_API_BASE_HERE\",\n",
    "    api_type=\"azure\",\n",
    ")\n",
    "\n",
    "conn = pf.connections.create_or_update(connection)\n",
    "print(\"successfully created connection\")"
   ]
  },
  {
   "cell_type": "markdown",
   "metadata": {},
   "source": [
    "Create your config with a specified model to be used in flow calls"
   ]
  },
  {
   "cell_type": "code",
   "execution_count": null,
   "metadata": {},
   "outputs": [],
   "source": [
    "from promptflow.core import AzureOpenAIModelConfiguration\n",
    "\n",
    "# create the model config to be used in below flow calls\n",
    "config = AzureOpenAIModelConfiguration(connection=\"open_ai_connection\", azure_deployment=\"gpt-4o\")"
   ]
  },
  {
   "cell_type": "markdown",
   "metadata": {},
   "source": [
    "Create your Chat Flow and see the traces rendered in Phoenix!"
   ]
  },
  {
   "cell_type": "code",
   "execution_count": null,
   "metadata": {},
   "outputs": [],
   "source": [
    "from flow import ChatFlow\n",
    "\n",
    "# create a chatFlow obj with connection\n",
    "chat_flow = ChatFlow(config)\n",
    "# run the flow as function, which will be recorded in the trace\n",
    "result = chat_flow(question=\"What is ChatGPT? Please explain with concise statement\")\n",
    "result"
   ]
  }
 ],
 "metadata": {
  "kernelspec": {
   "display_name": "promptflow-git-books-test",
   "language": "python",
   "name": "python3"
  },
  "language_info": {
   "codemirror_mode": {
    "name": "ipython",
    "version": 3
   },
   "file_extension": ".py",
   "mimetype": "text/x-python",
   "name": "python",
   "nbconvert_exporter": "python",
   "pygments_lexer": "ipython3",
   "version": "3.11.9"
  }
 },
 "nbformat": 4,
 "nbformat_minor": 2
}
