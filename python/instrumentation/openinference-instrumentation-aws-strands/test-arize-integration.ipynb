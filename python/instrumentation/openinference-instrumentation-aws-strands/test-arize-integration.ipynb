{
 "cells": [
  {
   "cell_type": "code",
   "execution_count": null,
   "id": "336efbe8",
   "metadata": {},
   "outputs": [],
   "source": [
    "# !pip install arize-otel opentelemetry-api opentelemetry-sdk arize-toolkit arize-phoenix-otel\n",
    "# !pip install opentelemetry-exporter-otlp-proto-grpc\n",
    "# !pip install git+https://github.com/strands-agents/sdk-python.git"
   ]
  },
  {
   "cell_type": "code",
   "execution_count": null,
   "id": "30f208d6",
   "metadata": {},
   "outputs": [],
   "source": [
    "import os\n",
    "\n",
    "API_KEY = \"ak-976fc8b6-a6f4-4d33-910b-57b7a5e82444-tR_uNt1bn1ycYy3DVY0feMad-HyBI4WX\"\n",
    "SPACE_ID = \"U3BhY2U6MjEzMTI6WTJqRA==\"\n",
    "ENDPOINT = \"otlp.arize.com:443\"\n",
    "os.environ[\"ARIZE_SPACE_ID\"] = SPACE_ID\n",
    "os.environ[\"ARIZE_API_KEY\"] = API_KEY\n",
    "os.environ[\"OTEL_EXPORTER_OTLP_ENDPOINT\"] = ENDPOINT"
   ]
  },
  {
   "cell_type": "code",
   "execution_count": null,
   "id": "11716548",
   "metadata": {},
   "outputs": [],
   "source": [
    "import grpc\n",
    "from arize.otel import register\n",
    "from opentelemetry import trace\n",
    "from opentelemetry.exporter.otlp.proto.grpc.trace_exporter import OTLPSpanExporter\n",
    "from opentelemetry.sdk.trace.export import BatchSpanProcessor\n",
    "\n",
    "from strands_to_openinference_mapping import StrandsToOpenInferenceProcessor\n",
    "\n",
    "provider = register(\n",
    "    space_id=SPACE_ID,\n",
    "    api_key=API_KEY,\n",
    "    project_name=\"strands-agent-integration2\",\n",
    "    set_global_tracer_provider=True,\n",
    ")\n",
    "\n",
    "provider.add_span_processor(StrandsToOpenInferenceProcessor(debug=True))\n",
    "\n",
    "provider.add_span_processor(\n",
    "    BatchSpanProcessor(\n",
    "        OTLPSpanExporter(\n",
    "            endpoint=ENDPOINT,\n",
    "            headers={\n",
    "                \"authorization\": f\"Bearer {API_KEY}\",\n",
    "                \"api_key\": API_KEY,\n",
    "                \"arize-space-id\": SPACE_ID,\n",
    "                \"arize-interface\": \"python\",\n",
    "                \"user-agent\": \"arize-python\",\n",
    "            },\n",
    "            compression=grpc.Compression.Gzip,\n",
    "        )\n",
    "    )\n",
    ")\n",
    "\n",
    "trace.set_tracer_provider(provider)"
   ]
  },
  {
   "cell_type": "code",
   "execution_count": null,
   "id": "610ea036",
   "metadata": {},
   "outputs": [],
   "source": [
    "# Your Strands Agent Code Here:\n",
    "# build you strands agent from here: https://github.com/strands-agents/samples/tree/main"
   ]
  }
 ],
 "metadata": {
  "language_info": {
   "name": "python"
  }
 },
 "nbformat": 4,
 "nbformat_minor": 5
}
