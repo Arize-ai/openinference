{
 "cells": [
  {
   "cell_type": "code",
   "execution_count": 1,
   "metadata": {},
   "outputs": [],
   "source": [
    "import json\n",
    "from typing import Any, Dict\n",
    "\n",
    "from opentelemetry.exporter.otlp.proto.http.trace_exporter import OTLPSpanExporter\n",
    "from opentelemetry.sdk.resources import Resource\n",
    "from opentelemetry.sdk.trace import TracerProvider\n",
    "from opentelemetry.sdk.trace.export import ConsoleSpanExporter, SimpleSpanProcessor\n",
    "from opentelemetry.trace import Status, StatusCode, set_tracer_provider\n",
    "\n",
    "from openinference.instrumentation import TraceConfig\n",
    "from openinference.instrumentation.config import (\n",
    "    OITracer,\n",
    "    chain,\n",
    "    get_input_value_and_mime_type,\n",
    "    get_openinference_span_kind,\n",
    "    get_output_value_and_mime_type,\n",
    ")\n",
    "from openinference.semconv.resource import ResourceAttributes"
   ]
  },
  {
   "cell_type": "code",
   "execution_count": 2,
   "metadata": {},
   "outputs": [],
   "source": [
    "endpoint = \"http://127.0.0.1:6006/v1/traces\"\n",
    "resource = Resource(attributes={ResourceAttributes.PROJECT_NAME: \"openinference-tracer\"})\n",
    "tracer_provider = TracerProvider(resource=resource)\n",
    "tracer_provider.add_span_processor(SimpleSpanProcessor(OTLPSpanExporter(endpoint)))\n",
    "tracer_provider.add_span_processor(SimpleSpanProcessor(ConsoleSpanExporter()))\n",
    "set_tracer_provider(tracer_provider)\n",
    "tracer = OITracer(wrapped=tracer_provider.get_tracer(__name__), config=TraceConfig())"
   ]
  },
  {
   "cell_type": "markdown",
   "metadata": {},
   "source": [
    "## Chains"
   ]
  },
  {
   "cell_type": "markdown",
   "metadata": {},
   "source": [
    "### Context Manager"
   ]
  },
  {
   "cell_type": "code",
   "execution_count": 3,
   "metadata": {},
   "outputs": [
    {
     "name": "stdout",
     "output_type": "stream",
     "text": [
      "{\n",
      "    \"name\": \"chain-span-with-plain-text-io\",\n",
      "    \"context\": {\n",
      "        \"trace_id\": \"0xeee32ec86ffa59d8baa3ab0394680917\",\n",
      "        \"span_id\": \"0xa85238d48d401a03\",\n",
      "        \"trace_state\": \"[]\"\n",
      "    },\n",
      "    \"kind\": \"SpanKind.INTERNAL\",\n",
      "    \"parent_id\": null,\n",
      "    \"start_time\": \"2025-01-16T06:15:45.377311Z\",\n",
      "    \"end_time\": \"2025-01-16T06:15:45.377354Z\",\n",
      "    \"status\": {\n",
      "        \"status_code\": \"OK\"\n",
      "    },\n",
      "    \"attributes\": {\n",
      "        \"openinference.span.kind\": \"CHAIN\",\n",
      "        \"input.value\": \"input\",\n",
      "        \"input.mime_type\": \"text/plain\",\n",
      "        \"output.value\": \"output\",\n",
      "        \"output.mime_type\": \"text/plain\"\n",
      "    },\n",
      "    \"events\": [],\n",
      "    \"links\": [],\n",
      "    \"resource\": {\n",
      "        \"attributes\": {\n",
      "            \"openinference.project.name\": \"openinference-tracer\"\n",
      "        },\n",
      "        \"schema_url\": \"\"\n",
      "    }\n",
      "}\n"
     ]
    }
   ],
   "source": [
    "with tracer.start_as_current_span(\n",
    "    \"chain-span-with-plain-text-io\",\n",
    "    openinference_span_kind=\"chain\",\n",
    ") as span:\n",
    "    span.set_input(\"input\")\n",
    "    span.set_output(\"output\")\n",
    "    span.set_status(Status(StatusCode.OK))"
   ]
  },
  {
   "cell_type": "code",
   "execution_count": 4,
   "metadata": {},
   "outputs": [
    {
     "name": "stdout",
     "output_type": "stream",
     "text": [
      "{\n",
      "    \"name\": \"chain-span-with-json-io\",\n",
      "    \"context\": {\n",
      "        \"trace_id\": \"0x0ccbe14ecd943a88ce476c88adc04b81\",\n",
      "        \"span_id\": \"0x59e61cad8e902931\",\n",
      "        \"trace_state\": \"[]\"\n",
      "    },\n",
      "    \"kind\": \"SpanKind.INTERNAL\",\n",
      "    \"parent_id\": null,\n",
      "    \"start_time\": \"2025-01-16T06:15:45.409922Z\",\n",
      "    \"end_time\": \"2025-01-16T06:15:45.409998Z\",\n",
      "    \"status\": {\n",
      "        \"status_code\": \"OK\"\n",
      "    },\n",
      "    \"attributes\": {\n",
      "        \"openinference.span.kind\": \"CHAIN\",\n",
      "        \"input.value\": \"{\\\"input-key\\\": \\\"input-value\\\"}\",\n",
      "        \"input.mime_type\": \"application/json\",\n",
      "        \"output.value\": \"{\\\"output-key\\\": \\\"output-value\\\"}\",\n",
      "        \"output.mime_type\": \"application/json\"\n",
      "    },\n",
      "    \"events\": [],\n",
      "    \"links\": [],\n",
      "    \"resource\": {\n",
      "        \"attributes\": {\n",
      "            \"openinference.project.name\": \"openinference-tracer\"\n",
      "        },\n",
      "        \"schema_url\": \"\"\n",
      "    }\n",
      "}\n"
     ]
    }
   ],
   "source": [
    "with tracer.start_as_current_span(\n",
    "    \"chain-span-with-json-io\",\n",
    "    openinference_span_kind=\"chain\",\n",
    ") as span:\n",
    "    span.set_input(\n",
    "        json.dumps({\"input-key\": \"input-value\"}),\n",
    "        mime_type=\"application/json\",\n",
    "    )\n",
    "    span.set_output(\n",
    "        json.dumps({\"output-key\": \"output-value\"}),\n",
    "        mime_type=\"application/json\",\n",
    "    )\n",
    "    span.set_status(Status(StatusCode.OK))"
   ]
  },
  {
   "cell_type": "code",
   "execution_count": 5,
   "metadata": {},
   "outputs": [
    {
     "name": "stdout",
     "output_type": "stream",
     "text": [
      "{\n",
      "    \"name\": \"chain-span-with-attribute-getters\",\n",
      "    \"context\": {\n",
      "        \"trace_id\": \"0xcba92cde3dbe20b802afeb24db589aa6\",\n",
      "        \"span_id\": \"0xf890625f1204477a\",\n",
      "        \"trace_state\": \"[]\"\n",
      "    },\n",
      "    \"kind\": \"SpanKind.INTERNAL\",\n",
      "    \"parent_id\": null,\n",
      "    \"start_time\": \"2025-01-16T06:15:45.455835Z\",\n",
      "    \"end_time\": \"2025-01-16T06:15:45.455961Z\",\n",
      "    \"status\": {\n",
      "        \"status_code\": \"OK\"\n",
      "    },\n",
      "    \"attributes\": {\n",
      "        \"input.value\": \"input\",\n",
      "        \"input.mime_type\": \"text/plain\",\n",
      "        \"output.value\": \"output\",\n",
      "        \"output.mime_type\": \"text/plain\",\n",
      "        \"openinference.span.kind\": \"CHAIN\"\n",
      "    },\n",
      "    \"events\": [],\n",
      "    \"links\": [],\n",
      "    \"resource\": {\n",
      "        \"attributes\": {\n",
      "            \"openinference.project.name\": \"openinference-tracer\"\n",
      "        },\n",
      "        \"schema_url\": \"\"\n",
      "    }\n",
      "}\n"
     ]
    }
   ],
   "source": [
    "with tracer.start_as_current_span(\n",
    "    \"chain-span-with-attribute-getters\",\n",
    "    attributes={\n",
    "        **get_openinference_span_kind(\"chain\"),\n",
    "        **get_input_value_and_mime_type(\"input\"),\n",
    "    },\n",
    ") as span:\n",
    "    span.set_attributes(get_output_value_and_mime_type(\"output\"))\n",
    "    span.set_status(Status(StatusCode.OK))"
   ]
  },
  {
   "cell_type": "markdown",
   "metadata": {},
   "source": [
    "### Decorator"
   ]
  },
  {
   "cell_type": "code",
   "execution_count": 6,
   "metadata": {},
   "outputs": [
    {
     "name": "stdout",
     "output_type": "stream",
     "text": [
      "{\n",
      "    \"name\": \"decorated_chain_with_plain_text_output\",\n",
      "    \"context\": {\n",
      "        \"trace_id\": \"0xe5223361341698eb77393d944f2c1e14\",\n",
      "        \"span_id\": \"0x3bab97577210662f\",\n",
      "        \"trace_state\": \"[]\"\n",
      "    },\n",
      "    \"kind\": \"SpanKind.INTERNAL\",\n",
      "    \"parent_id\": null,\n",
      "    \"start_time\": \"2025-01-16T06:15:45.482804Z\",\n",
      "    \"end_time\": \"2025-01-16T06:15:45.482851Z\",\n",
      "    \"status\": {\n",
      "        \"status_code\": \"OK\"\n",
      "    },\n",
      "    \"attributes\": {\n",
      "        \"openinference.span.kind\": \"CHAIN\",\n",
      "        \"input.value\": \"{\\\"input\\\": \\\"input\\\"}\",\n",
      "        \"input.mime_type\": \"application/json\",\n",
      "        \"output.value\": \"output\",\n",
      "        \"output.mime_type\": \"text/plain\"\n",
      "    },\n",
      "    \"events\": [],\n",
      "    \"links\": [],\n",
      "    \"resource\": {\n",
      "        \"attributes\": {\n",
      "            \"openinference.project.name\": \"openinference-tracer\"\n",
      "        },\n",
      "        \"schema_url\": \"\"\n",
      "    }\n",
      "}\n"
     ]
    },
    {
     "data": {
      "text/plain": [
       "'output'"
      ]
     },
     "execution_count": 6,
     "metadata": {},
     "output_type": "execute_result"
    }
   ],
   "source": [
    "@chain\n",
    "def decorated_chain_with_plain_text_output(input: str) -> str:\n",
    "    return \"output\"\n",
    "\n",
    "\n",
    "decorated_chain_with_plain_text_output(\"input\")"
   ]
  },
  {
   "cell_type": "code",
   "execution_count": 7,
   "metadata": {},
   "outputs": [
    {
     "name": "stdout",
     "output_type": "stream",
     "text": [
      "{\n",
      "    \"name\": \"decorated_chain_with_json_output\",\n",
      "    \"context\": {\n",
      "        \"trace_id\": \"0x428fbcd543e74e4bfc49062ea78ddf7a\",\n",
      "        \"span_id\": \"0x0e31b128f2990336\",\n",
      "        \"trace_state\": \"[]\"\n",
      "    },\n",
      "    \"kind\": \"SpanKind.INTERNAL\",\n",
      "    \"parent_id\": null,\n",
      "    \"start_time\": \"2025-01-16T06:15:45.498932Z\",\n",
      "    \"end_time\": \"2025-01-16T06:15:45.498981Z\",\n",
      "    \"status\": {\n",
      "        \"status_code\": \"OK\"\n",
      "    },\n",
      "    \"attributes\": {\n",
      "        \"openinference.span.kind\": \"CHAIN\",\n",
      "        \"input.value\": \"{\\\"input\\\": \\\"input\\\"}\",\n",
      "        \"input.mime_type\": \"application/json\",\n",
      "        \"output.value\": \"{\\\"output\\\": \\\"output\\\"}\",\n",
      "        \"output.mime_type\": \"application/json\"\n",
      "    },\n",
      "    \"events\": [],\n",
      "    \"links\": [],\n",
      "    \"resource\": {\n",
      "        \"attributes\": {\n",
      "            \"openinference.project.name\": \"openinference-tracer\"\n",
      "        },\n",
      "        \"schema_url\": \"\"\n",
      "    }\n",
      "}\n"
     ]
    },
    {
     "data": {
      "text/plain": [
       "{'output': 'output'}"
      ]
     },
     "execution_count": 7,
     "metadata": {},
     "output_type": "execute_result"
    }
   ],
   "source": [
    "@chain\n",
    "def decorated_chain_with_json_output(input: str) -> Dict[str, Any]:\n",
    "    return {\"output\": \"output\"}\n",
    "\n",
    "\n",
    "decorated_chain_with_json_output(\"input\")"
   ]
  },
  {
   "cell_type": "code",
   "execution_count": 8,
   "metadata": {},
   "outputs": [
    {
     "name": "stdout",
     "output_type": "stream",
     "text": [
      "{\n",
      "    \"name\": \"decorated_chain_with_no_parameters\",\n",
      "    \"context\": {\n",
      "        \"trace_id\": \"0x2ab2f3d0e4db8a873ea9438aa6f8e8e4\",\n",
      "        \"span_id\": \"0x53d4eb47a692552d\",\n",
      "        \"trace_state\": \"[]\"\n",
      "    },\n",
      "    \"kind\": \"SpanKind.INTERNAL\",\n",
      "    \"parent_id\": null,\n",
      "    \"start_time\": \"2025-01-16T06:15:45.510554Z\",\n",
      "    \"end_time\": \"2025-01-16T06:15:45.510609Z\",\n",
      "    \"status\": {\n",
      "        \"status_code\": \"OK\"\n",
      "    },\n",
      "    \"attributes\": {\n",
      "        \"openinference.span.kind\": \"CHAIN\",\n",
      "        \"input.value\": \"{\\\"input\\\": \\\"input\\\"}\",\n",
      "        \"input.mime_type\": \"application/json\",\n",
      "        \"output.value\": \"{\\\"output\\\": \\\"output\\\"}\",\n",
      "        \"output.mime_type\": \"application/json\"\n",
      "    },\n",
      "    \"events\": [],\n",
      "    \"links\": [],\n",
      "    \"resource\": {\n",
      "        \"attributes\": {\n",
      "            \"openinference.project.name\": \"openinference-tracer\"\n",
      "        },\n",
      "        \"schema_url\": \"\"\n",
      "    }\n",
      "}\n"
     ]
    },
    {
     "data": {
      "text/plain": [
       "{'output': 'output'}"
      ]
     },
     "execution_count": 8,
     "metadata": {},
     "output_type": "execute_result"
    }
   ],
   "source": [
    "@chain()\n",
    "def decorated_chain_with_no_parameters(input: str) -> Dict[str, Any]:\n",
    "    return {\"output\": \"output\"}\n",
    "\n",
    "\n",
    "decorated_chain_with_no_parameters(\"input\")"
   ]
  },
  {
   "cell_type": "code",
   "execution_count": 9,
   "metadata": {},
   "outputs": [
    {
     "name": "stdout",
     "output_type": "stream",
     "text": [
      "{\n",
      "    \"name\": \"decorated-chain-with-overriden-name\",\n",
      "    \"context\": {\n",
      "        \"trace_id\": \"0xd9478cc36c4c260306b436d50af820b3\",\n",
      "        \"span_id\": \"0x6f8d2d6b20d63313\",\n",
      "        \"trace_state\": \"[]\"\n",
      "    },\n",
      "    \"kind\": \"SpanKind.INTERNAL\",\n",
      "    \"parent_id\": null,\n",
      "    \"start_time\": \"2025-01-16T06:15:45.519739Z\",\n",
      "    \"end_time\": \"2025-01-16T06:15:45.519789Z\",\n",
      "    \"status\": {\n",
      "        \"status_code\": \"OK\"\n",
      "    },\n",
      "    \"attributes\": {\n",
      "        \"openinference.span.kind\": \"CHAIN\",\n",
      "        \"input.value\": \"{\\\"input\\\": \\\"input\\\"}\",\n",
      "        \"input.mime_type\": \"application/json\",\n",
      "        \"output.value\": \"{\\\"output\\\": \\\"output\\\"}\",\n",
      "        \"output.mime_type\": \"application/json\"\n",
      "    },\n",
      "    \"events\": [],\n",
      "    \"links\": [],\n",
      "    \"resource\": {\n",
      "        \"attributes\": {\n",
      "            \"openinference.project.name\": \"openinference-tracer\"\n",
      "        },\n",
      "        \"schema_url\": \"\"\n",
      "    }\n",
      "}\n"
     ]
    },
    {
     "data": {
      "text/plain": [
       "{'output': 'output'}"
      ]
     },
     "execution_count": 9,
     "metadata": {},
     "output_type": "execute_result"
    }
   ],
   "source": [
    "@chain(name=\"decorated-chain-with-overriden-name\")\n",
    "def this_name_should_be_overriden(input: str) -> Dict[str, Any]:\n",
    "    return {\"output\": \"output\"}\n",
    "\n",
    "\n",
    "this_name_should_be_overriden(\"input\")"
   ]
  },
  {
   "cell_type": "code",
   "execution_count": 10,
   "metadata": {},
   "outputs": [
    {
     "name": "stdout",
     "output_type": "stream",
     "text": [
      "{\n",
      "    \"name\": \"decorated_async_chain\",\n",
      "    \"context\": {\n",
      "        \"trace_id\": \"0xb4516b4b9f75410e5b25d5986a677ef2\",\n",
      "        \"span_id\": \"0x695a4df46529b5b3\",\n",
      "        \"trace_state\": \"[]\"\n",
      "    },\n",
      "    \"kind\": \"SpanKind.INTERNAL\",\n",
      "    \"parent_id\": null,\n",
      "    \"start_time\": \"2025-01-16T06:15:45.528912Z\",\n",
      "    \"end_time\": \"2025-01-16T06:15:45.528952Z\",\n",
      "    \"status\": {\n",
      "        \"status_code\": \"OK\"\n",
      "    },\n",
      "    \"attributes\": {\n",
      "        \"openinference.span.kind\": \"CHAIN\",\n",
      "        \"input.value\": \"{\\\"input\\\": \\\"input\\\"}\",\n",
      "        \"input.mime_type\": \"application/json\",\n",
      "        \"output.value\": \"output\",\n",
      "        \"output.mime_type\": \"text/plain\"\n",
      "    },\n",
      "    \"events\": [],\n",
      "    \"links\": [],\n",
      "    \"resource\": {\n",
      "        \"attributes\": {\n",
      "            \"openinference.project.name\": \"openinference-tracer\"\n",
      "        },\n",
      "        \"schema_url\": \"\"\n",
      "    }\n",
      "}\n"
     ]
    },
    {
     "data": {
      "text/plain": [
       "'output'"
      ]
     },
     "execution_count": 10,
     "metadata": {},
     "output_type": "execute_result"
    }
   ],
   "source": [
    "@chain\n",
    "async def decorated_async_chain(input: str) -> str:\n",
    "    return \"output\"\n",
    "\n",
    "\n",
    "await decorated_async_chain(\"input\")  # type: ignore[top-level-await]"
   ]
  },
  {
   "cell_type": "code",
   "execution_count": 11,
   "metadata": {},
   "outputs": [
    {
     "name": "stdout",
     "output_type": "stream",
     "text": [
      "{\n",
      "    \"name\": \"decorated_chain_with_error\",\n",
      "    \"context\": {\n",
      "        \"trace_id\": \"0x6718666162aad2cd4487dd329b1986f4\",\n",
      "        \"span_id\": \"0xd61d20a45a9e3bfe\",\n",
      "        \"trace_state\": \"[]\"\n",
      "    },\n",
      "    \"kind\": \"SpanKind.INTERNAL\",\n",
      "    \"parent_id\": null,\n",
      "    \"start_time\": \"2025-01-16T06:15:45.540278Z\",\n",
      "    \"end_time\": \"2025-01-16T06:15:45.541206Z\",\n",
      "    \"status\": {\n",
      "        \"status_code\": \"ERROR\",\n",
      "        \"description\": \"ValueError: error\"\n",
      "    },\n",
      "    \"attributes\": {\n",
      "        \"openinference.span.kind\": \"CHAIN\",\n",
      "        \"input.value\": \"{\\\"input\\\": \\\"input\\\"}\",\n",
      "        \"input.mime_type\": \"application/json\"\n",
      "    },\n",
      "    \"events\": [\n",
      "        {\n",
      "            \"name\": \"exception\",\n",
      "            \"timestamp\": \"2025-01-16T06:15:45.541192Z\",\n",
      "            \"attributes\": {\n",
      "                \"exception.type\": \"ValueError\",\n",
      "                \"exception.message\": \"error\",\n",
      "                \"exception.stacktrace\": \"Traceback (most recent call last):\\n  File \\\"/Users/xandersong/openinference/python/openinference-instrumentation/.venv/lib/python3.8/site-packages/opentelemetry/trace/__init__.py\\\", line 589, in use_span\\n    yield span\\n  File \\\"/Users/xandersong/openinference/python/openinference-instrumentation/src/openinference/instrumentation/config.py\\\", line 634, in start_as_current_span\\n    yield span\\n  File \\\"/Users/xandersong/openinference/python/openinference-instrumentation/src/openinference/instrumentation/config.py\\\", line 465, in sync_wrapper\\n    output = wrapped(*args, **kwargs)\\n  File \\\"/var/folders/5r/4zhmkbjs6rg6kbz87n1kctpm0000gp/T/ipykernel_63474/3153709407.py\\\", line 3, in decorated_chain_with_error\\n    raise ValueError(\\\"error\\\")\\nValueError: error\\n\",\n",
      "                \"exception.escaped\": \"False\"\n",
      "            }\n",
      "        }\n",
      "    ],\n",
      "    \"links\": [],\n",
      "    \"resource\": {\n",
      "        \"attributes\": {\n",
      "            \"openinference.project.name\": \"openinference-tracer\"\n",
      "        },\n",
      "        \"schema_url\": \"\"\n",
      "    }\n",
      "}\n",
      "error\n"
     ]
    }
   ],
   "source": [
    "@chain\n",
    "def decorated_chain_with_error(input: str) -> str:\n",
    "    raise ValueError(\"error\")\n",
    "\n",
    "\n",
    "try:\n",
    "    decorated_chain_with_error(\"input\")\n",
    "except ValueError as e:\n",
    "    print(e)"
   ]
  },
  {
   "cell_type": "code",
   "execution_count": 12,
   "metadata": {},
   "outputs": [
    {
     "name": "stdout",
     "output_type": "stream",
     "text": [
      "{\n",
      "    \"name\": \"child-span\",\n",
      "    \"context\": {\n",
      "        \"trace_id\": \"0x1a0326daaae88a5f6bdfabb9adff0269\",\n",
      "        \"span_id\": \"0xbeb154012cbd172f\",\n",
      "        \"trace_state\": \"[]\"\n",
      "    },\n",
      "    \"kind\": \"SpanKind.INTERNAL\",\n",
      "    \"parent_id\": \"0x634f4ca30bca35b6\",\n",
      "    \"start_time\": \"2025-01-16T06:15:45.552864Z\",\n",
      "    \"end_time\": \"2025-01-16T06:15:45.552889Z\",\n",
      "    \"status\": {\n",
      "        \"status_code\": \"OK\"\n",
      "    },\n",
      "    \"attributes\": {\n",
      "        \"openinference.span.kind\": \"CHAIN\",\n",
      "        \"input.value\": \"child-span-input\",\n",
      "        \"input.mime_type\": \"text/plain\",\n",
      "        \"output.value\": \"output\",\n",
      "        \"output.mime_type\": \"text/plain\"\n",
      "    },\n",
      "    \"events\": [],\n",
      "    \"links\": [],\n",
      "    \"resource\": {\n",
      "        \"attributes\": {\n",
      "            \"openinference.project.name\": \"openinference-tracer\"\n",
      "        },\n",
      "        \"schema_url\": \"\"\n",
      "    }\n",
      "}\n",
      "{\n",
      "    \"name\": \"decorated_chain_with_child_span\",\n",
      "    \"context\": {\n",
      "        \"trace_id\": \"0x1a0326daaae88a5f6bdfabb9adff0269\",\n",
      "        \"span_id\": \"0x634f4ca30bca35b6\",\n",
      "        \"trace_state\": \"[]\"\n",
      "    },\n",
      "    \"kind\": \"SpanKind.INTERNAL\",\n",
      "    \"parent_id\": null,\n",
      "    \"start_time\": \"2025-01-16T06:15:45.552812Z\",\n",
      "    \"end_time\": \"2025-01-16T06:15:45.559136Z\",\n",
      "    \"status\": {\n",
      "        \"status_code\": \"OK\"\n",
      "    },\n",
      "    \"attributes\": {\n",
      "        \"openinference.span.kind\": \"CHAIN\",\n",
      "        \"input.value\": \"{\\\"input\\\": \\\"input\\\"}\",\n",
      "        \"input.mime_type\": \"application/json\",\n",
      "        \"output.value\": \"output\",\n",
      "        \"output.mime_type\": \"text/plain\"\n",
      "    },\n",
      "    \"events\": [],\n",
      "    \"links\": [],\n",
      "    \"resource\": {\n",
      "        \"attributes\": {\n",
      "            \"openinference.project.name\": \"openinference-tracer\"\n",
      "        },\n",
      "        \"schema_url\": \"\"\n",
      "    }\n",
      "}\n"
     ]
    },
    {
     "data": {
      "text/plain": [
       "'output'"
      ]
     },
     "execution_count": 12,
     "metadata": {},
     "output_type": "execute_result"
    }
   ],
   "source": [
    "@chain\n",
    "def decorated_chain_with_child_span(input: str) -> str:\n",
    "    with tracer.start_as_current_span(\n",
    "        \"child-span\",\n",
    "        openinference_span_kind=\"chain\",\n",
    "        attributes=get_input_value_and_mime_type(\"child-span-input\"),\n",
    "    ) as child_span:\n",
    "        output = \"output\"\n",
    "        child_span.set_output(output)\n",
    "        child_span.set_status(Status(StatusCode.OK))\n",
    "        return output\n",
    "\n",
    "\n",
    "decorated_chain_with_child_span(\"input\")"
   ]
  },
  {
   "cell_type": "code",
   "execution_count": 13,
   "metadata": {},
   "outputs": [
    {
     "name": "stdout",
     "output_type": "stream",
     "text": [
      "{\n",
      "    \"name\": \"child-span\",\n",
      "    \"context\": {\n",
      "        \"trace_id\": \"0xef25a9aeecfec7ba9371b09ffe24f8d6\",\n",
      "        \"span_id\": \"0xf4bc769f20794b97\",\n",
      "        \"trace_state\": \"[]\"\n",
      "    },\n",
      "    \"kind\": \"SpanKind.INTERNAL\",\n",
      "    \"parent_id\": \"0x83e29d3fed0273c0\",\n",
      "    \"start_time\": \"2025-01-16T06:15:45.569152Z\",\n",
      "    \"end_time\": \"2025-01-16T06:15:45.569482Z\",\n",
      "    \"status\": {\n",
      "        \"status_code\": \"ERROR\",\n",
      "        \"description\": \"ValueError: error\"\n",
      "    },\n",
      "    \"attributes\": {\n",
      "        \"openinference.span.kind\": \"CHAIN\",\n",
      "        \"input.value\": \"child-span-input\",\n",
      "        \"input.mime_type\": \"text/plain\"\n",
      "    },\n",
      "    \"events\": [\n",
      "        {\n",
      "            \"name\": \"exception\",\n",
      "            \"timestamp\": \"2025-01-16T06:15:45.569471Z\",\n",
      "            \"attributes\": {\n",
      "                \"exception.type\": \"ValueError\",\n",
      "                \"exception.message\": \"error\",\n",
      "                \"exception.stacktrace\": \"Traceback (most recent call last):\\n  File \\\"/Users/xandersong/openinference/python/openinference-instrumentation/.venv/lib/python3.8/site-packages/opentelemetry/trace/__init__.py\\\", line 589, in use_span\\n    yield span\\n  File \\\"/Users/xandersong/openinference/python/openinference-instrumentation/src/openinference/instrumentation/config.py\\\", line 634, in start_as_current_span\\n    yield span\\n  File \\\"/var/folders/5r/4zhmkbjs6rg6kbz87n1kctpm0000gp/T/ipykernel_63474/3350712896.py\\\", line 8, in decorated_chain_with_child_span_error\\n    raise ValueError(\\\"error\\\")\\nValueError: error\\n\",\n",
      "                \"exception.escaped\": \"False\"\n",
      "            }\n",
      "        }\n",
      "    ],\n",
      "    \"links\": [],\n",
      "    \"resource\": {\n",
      "        \"attributes\": {\n",
      "            \"openinference.project.name\": \"openinference-tracer\"\n",
      "        },\n",
      "        \"schema_url\": \"\"\n",
      "    }\n",
      "}\n",
      "{\n",
      "    \"name\": \"decorated_chain_with_child_span_error\",\n",
      "    \"context\": {\n",
      "        \"trace_id\": \"0xef25a9aeecfec7ba9371b09ffe24f8d6\",\n",
      "        \"span_id\": \"0x83e29d3fed0273c0\",\n",
      "        \"trace_state\": \"[]\"\n",
      "    },\n",
      "    \"kind\": \"SpanKind.INTERNAL\",\n",
      "    \"parent_id\": null,\n",
      "    \"start_time\": \"2025-01-16T06:15:45.569095Z\",\n",
      "    \"end_time\": \"2025-01-16T06:15:45.575622Z\",\n",
      "    \"status\": {\n",
      "        \"status_code\": \"ERROR\",\n",
      "        \"description\": \"ValueError: error\"\n",
      "    },\n",
      "    \"attributes\": {\n",
      "        \"openinference.span.kind\": \"CHAIN\",\n",
      "        \"input.value\": \"{\\\"input\\\": \\\"input\\\"}\",\n",
      "        \"input.mime_type\": \"application/json\"\n",
      "    },\n",
      "    \"events\": [\n",
      "        {\n",
      "            \"name\": \"exception\",\n",
      "            \"timestamp\": \"2025-01-16T06:15:45.575612Z\",\n",
      "            \"attributes\": {\n",
      "                \"exception.type\": \"ValueError\",\n",
      "                \"exception.message\": \"error\",\n",
      "                \"exception.stacktrace\": \"Traceback (most recent call last):\\n  File \\\"/Users/xandersong/openinference/python/openinference-instrumentation/.venv/lib/python3.8/site-packages/opentelemetry/trace/__init__.py\\\", line 589, in use_span\\n    yield span\\n  File \\\"/Users/xandersong/openinference/python/openinference-instrumentation/src/openinference/instrumentation/config.py\\\", line 634, in start_as_current_span\\n    yield span\\n  File \\\"/Users/xandersong/openinference/python/openinference-instrumentation/src/openinference/instrumentation/config.py\\\", line 465, in sync_wrapper\\n    output = wrapped(*args, **kwargs)\\n  File \\\"/var/folders/5r/4zhmkbjs6rg6kbz87n1kctpm0000gp/T/ipykernel_63474/3350712896.py\\\", line 8, in decorated_chain_with_child_span_error\\n    raise ValueError(\\\"error\\\")\\nValueError: error\\n\",\n",
      "                \"exception.escaped\": \"False\"\n",
      "            }\n",
      "        }\n",
      "    ],\n",
      "    \"links\": [],\n",
      "    \"resource\": {\n",
      "        \"attributes\": {\n",
      "            \"openinference.project.name\": \"openinference-tracer\"\n",
      "        },\n",
      "        \"schema_url\": \"\"\n",
      "    }\n",
      "}\n",
      "error\n"
     ]
    }
   ],
   "source": [
    "@chain\n",
    "def decorated_chain_with_child_span_error(input: str) -> str:\n",
    "    with tracer.start_as_current_span(\n",
    "        \"child-span\",\n",
    "        openinference_span_kind=\"chain\",\n",
    "        attributes=get_input_value_and_mime_type(\"child-span-input\"),\n",
    "    ):\n",
    "        raise ValueError(\"error\")\n",
    "\n",
    "\n",
    "try:\n",
    "    decorated_chain_with_child_span_error(\"input\")\n",
    "except ValueError as e:\n",
    "    print(e)"
   ]
  },
  {
   "cell_type": "code",
   "execution_count": 14,
   "metadata": {},
   "outputs": [
    {
     "name": "stdout",
     "output_type": "stream",
     "text": [
      "{\n",
      "    \"name\": \"decorated_chain_method\",\n",
      "    \"context\": {\n",
      "        \"trace_id\": \"0xe81fde60ee5fb1e0f0bc7f7bb872d47c\",\n",
      "        \"span_id\": \"0xe4ebb5740668983e\",\n",
      "        \"trace_state\": \"[]\"\n",
      "    },\n",
      "    \"kind\": \"SpanKind.INTERNAL\",\n",
      "    \"parent_id\": null,\n",
      "    \"start_time\": \"2025-01-16T06:15:45.586472Z\",\n",
      "    \"end_time\": \"2025-01-16T06:15:45.586509Z\",\n",
      "    \"status\": {\n",
      "        \"status_code\": \"OK\"\n",
      "    },\n",
      "    \"attributes\": {\n",
      "        \"openinference.span.kind\": \"CHAIN\",\n",
      "        \"input.value\": \"{\\\"input\\\": \\\"input\\\"}\",\n",
      "        \"input.mime_type\": \"application/json\",\n",
      "        \"output.value\": \"output\",\n",
      "        \"output.mime_type\": \"text/plain\"\n",
      "    },\n",
      "    \"events\": [],\n",
      "    \"links\": [],\n",
      "    \"resource\": {\n",
      "        \"attributes\": {\n",
      "            \"openinference.project.name\": \"openinference-tracer\"\n",
      "        },\n",
      "        \"schema_url\": \"\"\n",
      "    }\n",
      "}\n"
     ]
    },
    {
     "data": {
      "text/plain": [
       "'output'"
      ]
     },
     "execution_count": 14,
     "metadata": {},
     "output_type": "execute_result"
    }
   ],
   "source": [
    "class ChainRunner:\n",
    "    @chain\n",
    "    def decorated_chain_method(self, input: str) -> str:\n",
    "        return \"output\"\n",
    "\n",
    "\n",
    "chain_runner = ChainRunner()\n",
    "chain_runner.decorated_chain_method(\"input\")"
   ]
  }
 ],
 "metadata": {
  "kernelspec": {
   "display_name": ".venv",
   "language": "python",
   "name": "python3"
  },
  "language_info": {
   "codemirror_mode": {
    "name": "ipython",
    "version": 3
   },
   "file_extension": ".py",
   "mimetype": "text/x-python",
   "name": "python",
   "nbconvert_exporter": "python",
   "pygments_lexer": "ipython3",
   "version": "3.8.20"
  }
 },
 "nbformat": 4,
 "nbformat_minor": 2
}
