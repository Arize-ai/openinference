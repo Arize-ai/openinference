{
 "cells": [
  {
   "cell_type": "code",
   "execution_count": 1,
   "metadata": {},
   "outputs": [],
   "source": [
    "import json\n",
    "from dataclasses import dataclass\n",
    "from typing import Any, Dict\n",
    "\n",
    "import pydantic\n",
    "from opentelemetry.exporter.otlp.proto.http.trace_exporter import OTLPSpanExporter\n",
    "from opentelemetry.sdk.resources import Resource\n",
    "from opentelemetry.sdk.trace.export import ConsoleSpanExporter, SimpleSpanProcessor\n",
    "from opentelemetry.trace import Status, StatusCode, get_current_span\n",
    "\n",
    "from openinference.instrumentation import (\n",
    "    TracerProvider,\n",
    "    get_input_value_and_mime_type,\n",
    "    get_output_value_and_mime_type,\n",
    "    get_span_kind,\n",
    "    get_tool_attributes,\n",
    "    suppress_tracing,\n",
    "    using_attributes,\n",
    ")\n",
    "from openinference.semconv.resource import ResourceAttributes"
   ]
  },
  {
   "cell_type": "code",
   "execution_count": 2,
   "metadata": {},
   "outputs": [],
   "source": [
    "endpoint = \"http://127.0.0.1:6006/v1/traces\"\n",
    "resource = Resource(attributes={ResourceAttributes.PROJECT_NAME: \"openinference-tracer\"})\n",
    "tracer_provider = TracerProvider(resource=resource)\n",
    "tracer_provider.add_span_processor(SimpleSpanProcessor(OTLPSpanExporter(endpoint)))\n",
    "tracer_provider.add_span_processor(SimpleSpanProcessor(ConsoleSpanExporter()))\n",
    "tracer = tracer_provider.get_tracer(__name__)"
   ]
  },
  {
   "cell_type": "markdown",
   "metadata": {},
   "source": [
    "## Chains"
   ]
  },
  {
   "cell_type": "markdown",
   "metadata": {},
   "source": [
    "### Context Manager"
   ]
  },
  {
   "cell_type": "code",
   "execution_count": null,
   "metadata": {},
   "outputs": [],
   "source": [
    "with tracer.start_as_current_span(\n",
    "    \"chain-span-with-plain-text-io\",\n",
    "    openinference_span_kind=\"chain\",\n",
    ") as span:\n",
    "    span.set_input(\"input\")\n",
    "    span.set_output(\"output\")\n",
    "    span.set_status(Status(StatusCode.OK))"
   ]
  },
  {
   "cell_type": "code",
   "execution_count": null,
   "metadata": {},
   "outputs": [],
   "source": [
    "with tracer.start_as_current_span(\n",
    "    \"chain-span-with-json-io\",\n",
    "    openinference_span_kind=\"chain\",\n",
    ") as span:\n",
    "    span.set_input(\n",
    "        {\"input-key\": \"input-value\"},\n",
    "    )\n",
    "    span.set_output(\n",
    "        json.dumps({\"output-key\": \"output-value\"}),\n",
    "        mime_type=\"application/json\",\n",
    "    )\n",
    "    span.set_status(Status(StatusCode.OK))"
   ]
  },
  {
   "cell_type": "code",
   "execution_count": null,
   "metadata": {},
   "outputs": [],
   "source": [
    "with tracer.start_as_current_span(\n",
    "    \"chain-span-with-attribute-getters\",\n",
    "    attributes={\n",
    "        **get_span_kind(\"chain\"),\n",
    "        **get_input_value_and_mime_type(\"input\"),\n",
    "    },\n",
    ") as span:\n",
    "    span.set_attributes(get_output_value_and_mime_type(\"output\"))\n",
    "    span.set_status(Status(StatusCode.OK))"
   ]
  },
  {
   "cell_type": "code",
   "execution_count": null,
   "metadata": {},
   "outputs": [],
   "source": [
    "class InputModel(pydantic.BaseModel):\n",
    "    input: str\n",
    "\n",
    "\n",
    "@dataclass\n",
    "class OutputModel:\n",
    "    output: str\n",
    "\n",
    "\n",
    "with tracer.start_as_current_span(\n",
    "    \"chain-span-with-pydantic-input-and-dataclass-output\",\n",
    "    openinference_span_kind=\"chain\",\n",
    ") as span:\n",
    "    span.set_input(InputModel(input=\"input\"))\n",
    "    span.set_output(OutputModel(output=\"output\"))\n",
    "    span.set_status(Status(StatusCode.OK))"
   ]
  },
  {
   "cell_type": "markdown",
   "metadata": {},
   "source": [
    "### Decorator"
   ]
  },
  {
   "cell_type": "code",
   "execution_count": null,
   "metadata": {},
   "outputs": [],
   "source": [
    "@tracer.chain\n",
    "def decorated_chain_with_plain_text_output(input: str) -> str:\n",
    "    return \"output\"\n",
    "\n",
    "\n",
    "decorated_chain_with_plain_text_output(\"input\")"
   ]
  },
  {
   "cell_type": "code",
   "execution_count": null,
   "metadata": {},
   "outputs": [],
   "source": [
    "@tracer.chain\n",
    "def decorated_chain_with_json_output(input: str) -> Dict[str, Any]:\n",
    "    return {\"output\": \"output\"}\n",
    "\n",
    "\n",
    "decorated_chain_with_json_output(\"input\")"
   ]
  },
  {
   "cell_type": "code",
   "execution_count": null,
   "metadata": {},
   "outputs": [],
   "source": [
    "@tracer.chain()\n",
    "def decorated_chain_with_no_parameters(input: str) -> Dict[str, Any]:\n",
    "    return {\"output\": \"output\"}\n",
    "\n",
    "\n",
    "decorated_chain_with_no_parameters(\"input\")"
   ]
  },
  {
   "cell_type": "code",
   "execution_count": null,
   "metadata": {},
   "outputs": [],
   "source": [
    "@tracer.chain(name=\"decorated-chain-with-overriden-name\")\n",
    "def this_name_should_be_overriden(input: str) -> Dict[str, Any]:\n",
    "    return {\"output\": \"output\"}\n",
    "\n",
    "\n",
    "this_name_should_be_overriden(\"input\")"
   ]
  },
  {
   "cell_type": "code",
   "execution_count": null,
   "metadata": {},
   "outputs": [],
   "source": [
    "def chain_with_decorator_applied_as_function(input: str) -> Dict[str, Any]:\n",
    "    return {\"output\": \"output\"}\n",
    "\n",
    "\n",
    "decorated = tracer.chain(chain_with_decorator_applied_as_function)\n",
    "decorated(\"input\")"
   ]
  },
  {
   "cell_type": "code",
   "execution_count": null,
   "metadata": {},
   "outputs": [],
   "source": [
    "def this_name_should_be_overriden_with_decorator_applied_as_function_with_parameters(\n",
    "    input: str,\n",
    ") -> Dict[str, Any]:\n",
    "    return {\"output\": \"output\"}\n",
    "\n",
    "\n",
    "decorated = tracer.chain(\n",
    "    name=\"decorated-chain-with-decorator-applied-as-function-with-overriden-name\"\n",
    ")(this_name_should_be_overriden_with_decorator_applied_as_function_with_parameters)\n",
    "decorated(\"input\")"
   ]
  },
  {
   "cell_type": "code",
   "execution_count": null,
   "metadata": {},
   "outputs": [],
   "source": [
    "@tracer.chain\n",
    "async def decorated_async_chain(input: str) -> str:\n",
    "    return \"output\"\n",
    "\n",
    "\n",
    "await decorated_async_chain(\"input\")  # type: ignore[top-level-await]"
   ]
  },
  {
   "cell_type": "code",
   "execution_count": null,
   "metadata": {},
   "outputs": [],
   "source": [
    "@tracer.chain\n",
    "def decorated_chain_with_error(input: str) -> str:\n",
    "    raise ValueError(\"error\")\n",
    "\n",
    "\n",
    "try:\n",
    "    decorated_chain_with_error(\"input\")\n",
    "except ValueError as e:\n",
    "    print(e)"
   ]
  },
  {
   "cell_type": "code",
   "execution_count": null,
   "metadata": {},
   "outputs": [],
   "source": [
    "@tracer.chain\n",
    "def decorated_chain_with_child_span(input: str) -> str:\n",
    "    with tracer.start_as_current_span(\n",
    "        \"child-span\",\n",
    "        openinference_span_kind=\"chain\",\n",
    "        attributes=get_input_value_and_mime_type(\"child-span-input\"),\n",
    "    ) as child_span:\n",
    "        output = \"output\"\n",
    "        child_span.set_output(output)\n",
    "        child_span.set_status(Status(StatusCode.OK))\n",
    "        return output\n",
    "\n",
    "\n",
    "decorated_chain_with_child_span(\"input\")"
   ]
  },
  {
   "cell_type": "code",
   "execution_count": null,
   "metadata": {},
   "outputs": [],
   "source": [
    "@tracer.chain\n",
    "def decorated_chain_with_child_span_error(input: str) -> str:\n",
    "    with tracer.start_as_current_span(\n",
    "        \"child-span\",\n",
    "        openinference_span_kind=\"chain\",\n",
    "        attributes=get_input_value_and_mime_type(\"child-span-input\"),\n",
    "    ):\n",
    "        raise ValueError(\"error\")\n",
    "\n",
    "\n",
    "try:\n",
    "    decorated_chain_with_child_span_error(\"input\")\n",
    "except ValueError as e:\n",
    "    print(e)"
   ]
  },
  {
   "cell_type": "code",
   "execution_count": null,
   "metadata": {},
   "outputs": [],
   "source": [
    "class ChainRunner:\n",
    "    @tracer.chain\n",
    "    def decorated_chain_method(self, input1: str, input2: str) -> str:\n",
    "        return \"output\"\n",
    "\n",
    "\n",
    "chain_runner = ChainRunner()\n",
    "chain_runner.decorated_chain_method(\"input1\", \"input2\")"
   ]
  },
  {
   "cell_type": "code",
   "execution_count": null,
   "metadata": {},
   "outputs": [],
   "source": [
    "@tracer.chain\n",
    "def decorated_chain_with_input_and_output_set_inside_the_wrapped_function(input: str) -> str:\n",
    "    span = get_current_span()\n",
    "    span.set_input(\"overridden-input\")  # type: ignore[attr-defined]\n",
    "    span.set_output(\"overridden-output\")  # type: ignore[attr-defined]\n",
    "    return \"output\"\n",
    "\n",
    "\n",
    "decorated_chain_with_input_and_output_set_inside_the_wrapped_function(\"input\")"
   ]
  },
  {
   "cell_type": "markdown",
   "metadata": {},
   "source": [
    "### Suppress Tracing"
   ]
  },
  {
   "cell_type": "code",
   "execution_count": 19,
   "metadata": {},
   "outputs": [],
   "source": [
    "with suppress_tracing():\n",
    "    with tracer.start_as_current_span(\n",
    "        \"THIS-SPAN-SHOULD-NOT-BE-TRACED\",\n",
    "        openinference_span_kind=\"chain\",\n",
    "    ) as span:\n",
    "        span.set_input(\"input\")\n",
    "        span.set_output(\"output\")\n",
    "        span.set_status(Status(StatusCode.OK))"
   ]
  },
  {
   "cell_type": "code",
   "execution_count": 20,
   "metadata": {},
   "outputs": [],
   "source": [
    "@tracer.chain\n",
    "def decorated_chain_with_suppress_tracing(input: str) -> str:\n",
    "    return \"output\"\n",
    "\n",
    "\n",
    "with suppress_tracing():\n",
    "    decorated_chain_with_suppress_tracing(\"input\")"
   ]
  },
  {
   "cell_type": "markdown",
   "metadata": {},
   "source": [
    "### Context Attributes"
   ]
  },
  {
   "cell_type": "code",
   "execution_count": null,
   "metadata": {},
   "outputs": [],
   "source": [
    "with using_attributes(session_id=\"123\"):\n",
    "    with tracer.start_as_current_span(\n",
    "        \"chain-span-with-context-attributes\",\n",
    "        openinference_span_kind=\"chain\",\n",
    "    ) as span:\n",
    "        span.set_input(\"input\")\n",
    "        span.set_output(\"output\")\n",
    "        span.set_status(Status(StatusCode.OK))"
   ]
  },
  {
   "cell_type": "code",
   "execution_count": null,
   "metadata": {},
   "outputs": [],
   "source": [
    "@tracer.chain\n",
    "def decorated_chain_with_context_attributes(input: str) -> str:\n",
    "    return \"output\"\n",
    "\n",
    "\n",
    "with using_attributes(session_id=\"123\"):\n",
    "    decorated_chain_with_context_attributes(\"input\")"
   ]
  },
  {
   "cell_type": "markdown",
   "metadata": {},
   "source": [
    "## Agents"
   ]
  },
  {
   "cell_type": "markdown",
   "metadata": {},
   "source": [
    "### Context Managers"
   ]
  },
  {
   "cell_type": "code",
   "execution_count": null,
   "metadata": {},
   "outputs": [],
   "source": [
    "with tracer.start_as_current_span(\n",
    "    \"agent-span-with-plain-text-io\",\n",
    "    openinference_span_kind=\"agent\",\n",
    ") as span:\n",
    "    span.set_input(\"input\")\n",
    "    span.set_output(\"output\")\n",
    "    span.set_status(Status(StatusCode.OK))"
   ]
  },
  {
   "cell_type": "markdown",
   "metadata": {},
   "source": [
    "### Decorators"
   ]
  },
  {
   "cell_type": "code",
   "execution_count": null,
   "metadata": {},
   "outputs": [],
   "source": [
    "@tracer.agent\n",
    "def decorated_agent(input: str) -> str:\n",
    "    return \"output\"\n",
    "\n",
    "\n",
    "decorated_agent(\"input\")"
   ]
  },
  {
   "cell_type": "markdown",
   "metadata": {},
   "source": [
    "## Tools"
   ]
  },
  {
   "cell_type": "markdown",
   "metadata": {},
   "source": [
    "### Context Managers"
   ]
  },
  {
   "cell_type": "code",
   "execution_count": null,
   "metadata": {},
   "outputs": [],
   "source": [
    "with tracer.start_as_current_span(\n",
    "    \"tool-span\",\n",
    "    openinference_span_kind=\"tool\",\n",
    ") as span:\n",
    "    span.set_input(\"input\")\n",
    "    span.set_output(\"output\")\n",
    "    span.set_tool(\n",
    "        name=\"tool-name\",\n",
    "        description=\"tool-description\",\n",
    "        parameters={\"input\": \"input\"},\n",
    "    )\n",
    "    span.set_status(Status(StatusCode.OK))"
   ]
  },
  {
   "cell_type": "code",
   "execution_count": null,
   "metadata": {},
   "outputs": [],
   "source": [
    "with tracer.start_as_current_span(\n",
    "    \"tool-span-with-getter\",\n",
    "    openinference_span_kind=\"tool\",\n",
    ") as span:\n",
    "    span.set_attributes(\n",
    "        get_tool_attributes(\n",
    "            name=\"tool-name\",\n",
    "            description=\"tool-description\",\n",
    "            parameters={\"input\": \"input\"},\n",
    "        )\n",
    "    )\n",
    "    span.set_status(Status(StatusCode.OK))"
   ]
  },
  {
   "cell_type": "code",
   "execution_count": null,
   "metadata": {},
   "outputs": [],
   "source": [
    "@tracer.tool\n",
    "def decorated_tool(input1: str, input2: int) -> None:\n",
    "    \"\"\"\n",
    "    tool-description\n",
    "    \"\"\"\n",
    "\n",
    "\n",
    "decorated_tool(\"input1\", 1)"
   ]
  },
  {
   "cell_type": "code",
   "execution_count": null,
   "metadata": {},
   "outputs": [],
   "source": [
    "@tracer.tool\n",
    "async def decorated_tool_async(input1: str, input2: int) -> None:\n",
    "    \"\"\"\n",
    "    tool-description\n",
    "    \"\"\"\n",
    "\n",
    "\n",
    "await decorated_tool_async(\"input1\", 1)  # type: ignore[top-level-await]"
   ]
  },
  {
   "cell_type": "code",
   "execution_count": null,
   "metadata": {},
   "outputs": [],
   "source": [
    "@tracer.tool(\n",
    "    name=\"decorated-tool-with-overriden-name\",\n",
    "    description=\"overriden-tool-description\",\n",
    ")\n",
    "def this_tool_name_should_be_overriden(input1: str, input2: int) -> None:\n",
    "    \"\"\"\n",
    "    this tool description should be overriden\n",
    "    \"\"\"\n",
    "\n",
    "\n",
    "this_tool_name_should_be_overriden(\"input1\", 1)"
   ]
  },
  {
   "cell_type": "code",
   "execution_count": null,
   "metadata": {},
   "outputs": [],
   "source": [
    "@tracer.tool\n",
    "def tool_with_changes_inside_the_wrapped_function(input1: str, input2: int) -> str:\n",
    "    span = get_current_span()\n",
    "    print(type(span))\n",
    "    span.set_input(\"inside-input\")  # type: ignore[attr-defined]\n",
    "    span.set_output(\"inside-output\")  # type: ignore[attr-defined]\n",
    "    span.set_tool(  # type: ignore[attr-defined]\n",
    "        name=\"inside-tool-name\",\n",
    "        description=\"inside-tool-description\",\n",
    "        parameters={\"inside-input\": \"inside-input\"},\n",
    "    )\n",
    "    return \"output\"\n",
    "\n",
    "\n",
    "tool_with_changes_inside_the_wrapped_function(\"input1\", 1)"
   ]
  }
 ],
 "metadata": {
  "kernelspec": {
   "display_name": ".venv",
   "language": "python",
   "name": "python3"
  },
  "language_info": {
   "codemirror_mode": {
    "name": "ipython",
    "version": 3
   },
   "file_extension": ".py",
   "mimetype": "text/x-python",
   "name": "python",
   "nbconvert_exporter": "python",
   "pygments_lexer": "ipython3",
   "version": "3.8.20"
  }
 },
 "nbformat": 4,
 "nbformat_minor": 2
}
