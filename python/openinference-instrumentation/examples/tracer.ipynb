{
 "cells": [
  {
   "cell_type": "code",
   "execution_count": 1,
   "metadata": {},
   "outputs": [],
   "source": [
    "import json\n",
    "\n",
    "from opentelemetry.exporter.otlp.proto.http.trace_exporter import OTLPSpanExporter\n",
    "from opentelemetry.sdk.resources import Resource\n",
    "from opentelemetry.sdk.trace import TracerProvider\n",
    "from opentelemetry.sdk.trace.export import SimpleSpanProcessor\n",
    "from opentelemetry.trace import Status, StatusCode\n",
    "\n",
    "from openinference.instrumentation import TraceConfig\n",
    "from openinference.instrumentation.config import OITracer\n",
    "from openinference.semconv.resource import ResourceAttributes"
   ]
  },
  {
   "cell_type": "code",
   "execution_count": 2,
   "metadata": {},
   "outputs": [],
   "source": [
    "endpoint = \"http://127.0.0.1:6006/v1/traces\"\n",
    "resource = Resource(attributes={ResourceAttributes.PROJECT_NAME: \"openinference-tracer\"})\n",
    "tracer_provider = TracerProvider(resource=resource)\n",
    "tracer = tracer_provider.get_tracer(__name__)\n",
    "tracer = OITracer(wrapped=tracer, config=TraceConfig())\n",
    "tracer_provider.add_span_processor(SimpleSpanProcessor(OTLPSpanExporter(endpoint)))"
   ]
  },
  {
   "cell_type": "markdown",
   "metadata": {},
   "source": [
    "## Chains"
   ]
  },
  {
   "cell_type": "markdown",
   "metadata": {},
   "source": [
    "Context manager"
   ]
  },
  {
   "cell_type": "code",
   "execution_count": 3,
   "metadata": {},
   "outputs": [],
   "source": [
    "with tracer.start_as_current_span(\n",
    "    \"plain-text-mime-type-string-input-string-output\",\n",
    "    openinference_span_kind=\"chain\",\n",
    ") as span:\n",
    "    span.set_input(\"input\")\n",
    "    span.set_output(\"output\")\n",
    "    span.set_status(Status(StatusCode.OK))"
   ]
  },
  {
   "cell_type": "code",
   "execution_count": 4,
   "metadata": {},
   "outputs": [],
   "source": [
    "with tracer.start_as_current_span(\n",
    "    \"json-mime-type-string-input-string-output\",\n",
    "    openinference_span_kind=\"chain\",\n",
    ") as span:\n",
    "    span.set_input(\n",
    "        json.dumps({\"input-key\": \"input-value\"}),\n",
    "        mime_type=\"application/json\",\n",
    "    )\n",
    "    span.set_output(\n",
    "        json.dumps({\"output-key\": \"output-value\"}),\n",
    "        mime_type=\"application/json\",\n",
    "    )\n",
    "    span.set_status(Status(StatusCode.OK))"
   ]
  }
 ],
 "metadata": {
  "kernelspec": {
   "display_name": ".venv",
   "language": "python",
   "name": "python3"
  },
  "language_info": {
   "codemirror_mode": {
    "name": "ipython",
    "version": 3
   },
   "file_extension": ".py",
   "mimetype": "text/x-python",
   "name": "python",
   "nbconvert_exporter": "python",
   "pygments_lexer": "ipython3",
   "version": "3.8.20"
  }
 },
 "nbformat": 4,
 "nbformat_minor": 2
}
